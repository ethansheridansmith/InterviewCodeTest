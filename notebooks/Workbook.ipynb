{
 "cells": [
  {
   "cell_type": "code",
   "execution_count": 13,
   "id": "6b5a1093",
   "metadata": {},
   "outputs": [
    {
     "ename": "FileNotFoundError",
     "evalue": "No _flair.nii files found in the validation directory.",
     "output_type": "error",
     "traceback": [
      "\u001b[0;31m---------------------------------------------------------------------------\u001b[0m",
      "\u001b[0;31mFileNotFoundError\u001b[0m                         Traceback (most recent call last)",
      "Cell \u001b[0;32mIn[13], line 10\u001b[0m\n\u001b[1;32m      7\u001b[0m flair_files \u001b[38;5;241m=\u001b[39m [f \u001b[38;5;28;01mfor\u001b[39;00m f \u001b[38;5;129;01min\u001b[39;00m os\u001b[38;5;241m.\u001b[39mlistdir(val_path) \u001b[38;5;28;01mif\u001b[39;00m f\u001b[38;5;241m.\u001b[39mendswith(\u001b[38;5;124m\"\u001b[39m\u001b[38;5;124m_flair.nii\u001b[39m\u001b[38;5;124m\"\u001b[39m)]\n\u001b[1;32m      9\u001b[0m \u001b[38;5;28;01mif\u001b[39;00m \u001b[38;5;129;01mnot\u001b[39;00m flair_files:\n\u001b[0;32m---> 10\u001b[0m     \u001b[38;5;28;01mraise\u001b[39;00m \u001b[38;5;167;01mFileNotFoundError\u001b[39;00m(\u001b[38;5;124m\"\u001b[39m\u001b[38;5;124mNo _flair.nii files found in the validation directory.\u001b[39m\u001b[38;5;124m\"\u001b[39m)\n\u001b[1;32m     12\u001b[0m flair_file \u001b[38;5;241m=\u001b[39m flair_files[\u001b[38;5;241m0\u001b[39m]\n\u001b[1;32m     13\u001b[0m sample_id \u001b[38;5;241m=\u001b[39m flair_file\u001b[38;5;241m.\u001b[39msplit(\u001b[38;5;124m\"\u001b[39m\u001b[38;5;124m_flair.nii\u001b[39m\u001b[38;5;124m\"\u001b[39m)[\u001b[38;5;241m0\u001b[39m]\n",
      "\u001b[0;31mFileNotFoundError\u001b[0m: No _flair.nii files found in the validation directory."
     ]
    }
   ],
   "source": [
    "import os\n",
    "import nibabel as nib\n",
    "import numpy as np\n",
    "import plotly.graph_objects as go\n",
    "\n",
    "val_path = \"../data/BraTS2020_ValidationData/MICCAI_BraTS2020_ValidationData\"\n",
    "flair_files = [f for f in os.listdir(val_path) if f.endswith(\"_flair.nii\")]\n",
    "\n",
    "if not flair_files:\n",
    "    raise FileNotFoundError(\"No _flair.nii files found in the validation directory.\")\n",
    "\n",
    "flair_file = flair_files[0]\n",
    "sample_id = flair_file.split(\"_flair.nii\")[0]\n",
    "flair_path = os.path.join(val_path, flair_file)\n",
    "\n",
    "try:\n",
    "    img = nib.load(flair_path)\n",
    "    img_data = img.get_fdata()\n",
    "except Exception as e:\n",
    "    raise RuntimeError(f\"Failed to load or read NIfTI file: {flair_path}\\n{e}\")\n",
    "\n",
    "fig = go.Figure(data=go.Volume(\n",
    "    x=np.linspace(0, img_data.shape[0] - 1, img_data.shape[0]),\n",
    "    y=np.linspace(0, img_data.shape[1] - 1, img_data.shape[1]),\n",
    "    z=np.linspace(0, img_data.shape[2] - 1, img_data.shape[2]),\n",
    "    value=img_data.flatten(),\n",
    "    opacity=0.1,\n",
    "    surface_count=15,\n",
    "))\n",
    "fig.update_layout(title=f\"{sample_id} - FLAIR MRI\", width=800, height=800)\n",
    "fig.show()"
   ]
  }
 ],
 "metadata": {
  "kernelspec": {
   "display_name": "venv",
   "language": "python",
   "name": "python3"
  },
  "language_info": {
   "codemirror_mode": {
    "name": "ipython",
    "version": 3
   },
   "file_extension": ".py",
   "mimetype": "text/x-python",
   "name": "python",
   "nbconvert_exporter": "python",
   "pygments_lexer": "ipython3",
   "version": "3.9.6"
  }
 },
 "nbformat": 4,
 "nbformat_minor": 5
}
