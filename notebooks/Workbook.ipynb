{
 "cells": [
  {
   "cell_type": "markdown",
   "id": "7f4ff8f6",
   "metadata": {},
   "source": [
    "# Step 1: Import Libraries\n",
    "We begin by importing the essential libraries for working with neuroimaging data (nibabel), numerical operations (numpy), file handling (os), and interactive plotting (plotly)."
   ]
  },
  {
   "cell_type": "code",
   "execution_count": null,
   "id": "95ea3075",
   "metadata": {},
   "outputs": [],
   "source": [
    "# File handling and numerical operations\n",
    "import os\n",
    "import numpy as np\n",
    "\n",
    "# Neuroimaging data handling\n",
    "import nibabel as nib\n",
    "\n",
    "# Plotly for interactive 3D visualizations\n",
    "import plotly.graph_objects as go\n"
   ]
  },
  {
   "cell_type": "markdown",
   "id": "55bb1d08",
   "metadata": {},
   "source": [
    "# Step 2: Define Dataset Path and Explore Contents\n",
    "We'll define the path to the BraTS2020 validation data, check that it exists, and list the patient folders to make sure we're reading the structure correctly."
   ]
  },
  {
   "cell_type": "code",
   "execution_count": null,
   "id": "0cdcc8d2",
   "metadata": {},
   "outputs": [],
   "source": [
    "# Define the path to the validation dataset\n",
    "base_path = \"../data/BraTS2020_ValidationData/MICCAI_BraTS2020_ValidationData\"\n",
    "\n",
    "# Check if the path exists\n",
    "if not os.path.exists(base_path):\n",
    "    raise FileNotFoundError(f\"Path does not exist: {base_path}\")\n",
    "\n",
    "# List all patient folders inside the validation set\n",
    "patient_folders = [f for f in os.listdir(base_path) if f.startswith(\"BraTS20_Validation_\")]\n",
    "\n",
    "# Show how many we found and list the first few as a sanity check\n",
    "print(f\"🧠 Found {len(patient_folders)} patient folders.\")\n",
    "print(\"📄 First 5 folders:\", patient_folders[:5])\n"
   ]
  },
  {
   "cell_type": "markdown",
   "id": "33c36df1",
   "metadata": {},
   "source": [
    "# Step 3: Load a FLAIR MRI Scan for One Patient\n",
    "We'll pick the first patient, locate the corresponding FLAIR .nii file, and load it using nibabel."
   ]
  },
  {
   "cell_type": "code",
   "execution_count": null,
   "id": "b1ce4d6f",
   "metadata": {},
   "outputs": [],
   "source": [
    "# Pick the first patient folder\n",
    "sample_id = patient_folders[0]\n",
    "sample_path = os.path.join(base_path, sample_id)\n",
    "\n",
    "# Construct full path to the FLAIR scan file\n",
    "flair_file = os.path.join(sample_path, f\"{sample_id}_flair.nii\")\n",
    "\n",
    "# Check if file exists\n",
    "if not os.path.exists(flair_file):\n",
    "    raise FileNotFoundError(f\"FLAIR file not found: {flair_file}\")\n",
    "\n",
    "# Load the MRI scan\n",
    "img = nib.load(flair_file)\n",
    "img_data = img.get_fdata()\n",
    "\n",
    "# Show image shape and value range for inspection\n",
    "print(f\"📐 Shape: {img_data.shape}\")\n",
    "print(f\"🔢 Min: {np.min(img_data):.2f}, Max: {np.max(img_data):.2f}\")\n"
   ]
  },
  {
   "cell_type": "markdown",
   "id": "6141f5a2",
   "metadata": {},
   "source": [
    "# Step 4: Normalize and Threshold the Image Data\n",
    "To make the visualization meaningful, we’ll:\n",
    "- Normalize intensity values to a 0–1 scale.\n",
    "- Apply a threshold to highlight relevant brain tissue and ignore noise."
   ]
  },
  {
   "cell_type": "code",
   "execution_count": null,
   "id": "cfd41311",
   "metadata": {},
   "outputs": [],
   "source": [
    "# Normalize image data to 0–1 range\n",
    "img_data_norm = (img_data - np.min(img_data)) / (np.max(img_data) - np.min(img_data))\n",
    "\n",
    "# Apply a threshold to ignore low-intensity voxels\n",
    "threshold = 0.1\n",
    "img_masked = np.where(img_data_norm > threshold, img_data_norm, 0)\n",
    "\n",
    "# Subsample the volume for performance\n",
    "img_sub = img_masked[::2, ::2, ::2]\n",
    "\n",
    "# Diagnostic output\n",
    "print(f\"🧪 Subsampled shape: {img_sub.shape}\")\n",
    "print(f\"🔍 Unique values in img_sub: {np.unique(img_sub)[:10]}\")\n",
    "print(f\"🔢 Non-zero voxels after threshold: {np.count_nonzero(img_sub)}\")\n"
   ]
  },
  {
   "cell_type": "markdown",
   "id": "4240961e",
   "metadata": {},
   "source": [
    "# Step 5: Plot 3D Brain Structure with Plotly\n",
    "We’ll use Scatter3d from Plotly to render an interactive 3D view of the non-zero voxels."
   ]
  },
  {
   "cell_type": "code",
   "execution_count": null,
   "id": "3d076e65",
   "metadata": {},
   "outputs": [],
   "source": [
    "# Create grid coordinates\n",
    "x = np.arange(img_sub.shape[0])\n",
    "y = np.arange(img_sub.shape[1])\n",
    "z = np.arange(img_sub.shape[2])\n",
    "\n",
    "# Generate full coordinate grid\n",
    "X, Y, Z = np.meshgrid(x, y, z, indexing='ij')\n",
    "\n",
    "# Flatten all for Plotly\n",
    "fig = go.Figure(data=go.Volume(\n",
    "    x=X.flatten(),\n",
    "    y=Y.flatten(),\n",
    "    z=Z.flatten(),\n",
    "    value=img_sub.flatten(),\n",
    "    opacity=0.1,\n",
    "    surface_count=15,\n",
    "    isomin=threshold,\n",
    "    isomax=1.0,\n",
    "    colorscale='Plasma',\n",
    "    caps=dict(x_show=False, y_show=False, z_show=False)\n",
    "))\n",
    "\n",
    "fig.update_layout(\n",
    "    title=f\"{sample_id} - FLAIR MRI (Normalized Volume Rendering)\",\n",
    "    width=800,\n",
    "    height=800,\n",
    "    scene=dict(\n",
    "        xaxis_title='X',\n",
    "        yaxis_title='Y',\n",
    "        zaxis_title='Z'\n",
    "    )\n",
    ")\n",
    "\n",
    "fig.show()\n"
   ]
  }
 ],
 "metadata": {
  "kernelspec": {
   "display_name": "venv",
   "language": "python",
   "name": "python3"
  },
  "language_info": {
   "codemirror_mode": {
    "name": "ipython",
    "version": 3
   },
   "file_extension": ".py",
   "mimetype": "text/x-python",
   "name": "python",
   "nbconvert_exporter": "python",
   "pygments_lexer": "ipython3",
   "version": "3.9.6"
  }
 },
 "nbformat": 4,
 "nbformat_minor": 5
}
